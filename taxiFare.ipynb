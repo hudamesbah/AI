{
 "cells": [
  {
   "cell_type": "markdown",
   "metadata": {},
   "source": [
    "# New York City taxi Fare Case Study\n",
    "In this problem are tasked with predicting the fare amount for a taxi ride in New York City given the pickup and dropoff cpLocations. While you can get a basic estimate based on just the distance between the two points, this will result in an RMSE of 5 to 8 dollars, depending on the model used."
   ]
  },
  {
   "cell_type": "markdown",
   "metadata": {},
   "source": [
    "- This dataset with about 55 million records. *The data contains only the pickup date & time, the latitude & longitude (GPS coordinates) of the pickup and dropoff locations, and the number of passengers.*\n",
    "\n",
    "- It is up to you to extract any further information. For instance, **does the time of day matter? The day of the week? How do we determine the distance traveled from pairs of GPS coordinates?**\n",
    "\n",
    "For this data we've whittled the dataset down to just 120,000 records from April 11 to April 24, 2010. **The records are randomly sorted.**\n",
    "\n",
    "**HINT: you can calculate distance from GPS coordinates, and you should create a pandas datatime object from a text column. This will let you quickly get information like day of the week, am vs. pm, etc.**\n",
    "\n",
    "## Attributes\n",
    "- **fare_amount** - float for the fare amount collected at this ride.\n",
    "- **fare_class** - integer for determining the class of the fare 0 or 1.\n",
    "- **pickup_datetime** - timestamp value indicating when the taxi ride started.\n",
    "- **pickup_longitude** - float for longitude coordinate of where the taxi ride started.\n",
    "- **pickup_latitude** - float for latitude coordinate of where the taxi ride started.\n",
    "- **dropoff_longitude** - float for longitude coordinate of where the taxi ride ended.\n",
    "- **dropoff_latitude** - float for latitude coordinate of where the taxi ride ended.\n",
    "- **passenger_count** - integer indicating the number of passengers in the taxi ride."
   ]
  },
  {
   "cell_type": "code",
   "execution_count": 2,
   "metadata": {},
   "outputs": [],
   "source": [
    "#Adding important libraries\n",
    "import numpy as np\n",
    "import pandas as pd\n",
    "import seaborn as sns\n",
    "import matplotlib.pyplot as plt\n",
    "%matplotlib inline\n",
    "\n",
    "import torch\n",
    "import torch.nn as nn\n",
    "\n",
    "from tabulate import tabulate\n"
   ]
  },
  {
   "cell_type": "markdown",
   "metadata": {},
   "source": [
    "## Exploring the data"
   ]
  },
  {
   "cell_type": "code",
   "execution_count": 3,
   "metadata": {},
   "outputs": [],
   "source": [
    "df = pd.read_csv(\"NYCTaxiFares.csv\") #Reading the dataset in a dataframe using Pandas"
   ]
  },
  {
   "cell_type": "code",
   "execution_count": 4,
   "metadata": {},
   "outputs": [
    {
     "name": "stdout",
     "output_type": "stream",
     "text": [
      "<class 'pandas.core.frame.DataFrame'>\n",
      "RangeIndex: 120000 entries, 0 to 119999\n",
      "Data columns (total 8 columns):\n",
      " #   Column             Non-Null Count   Dtype  \n",
      "---  ------             --------------   -----  \n",
      " 0   pickup_datetime    120000 non-null  object \n",
      " 1   fare_amount        120000 non-null  float64\n",
      " 2   fare_class         120000 non-null  int64  \n",
      " 3   pickup_longitude   120000 non-null  float64\n",
      " 4   pickup_latitude    120000 non-null  float64\n",
      " 5   dropoff_longitude  120000 non-null  float64\n",
      " 6   dropoff_latitude   120000 non-null  float64\n",
      " 7   passenger_count    120000 non-null  int64  \n",
      "dtypes: float64(5), int64(2), object(1)\n",
      "memory usage: 7.3+ MB\n"
     ]
    }
   ],
   "source": [
    "df.info() #Seeing the number and type of data in each column in the dataset"
   ]
  },
  {
   "cell_type": "code",
   "execution_count": 5,
   "metadata": {},
   "outputs": [
    {
     "data": {
      "text/html": [
       "<div>\n",
       "<style scoped>\n",
       "    .dataframe tbody tr th:only-of-type {\n",
       "        vertical-align: middle;\n",
       "    }\n",
       "\n",
       "    .dataframe tbody tr th {\n",
       "        vertical-align: top;\n",
       "    }\n",
       "\n",
       "    .dataframe thead th {\n",
       "        text-align: right;\n",
       "    }\n",
       "</style>\n",
       "<table border=\"1\" class=\"dataframe\">\n",
       "  <thead>\n",
       "    <tr style=\"text-align: right;\">\n",
       "      <th></th>\n",
       "      <th>pickup_datetime</th>\n",
       "      <th>fare_amount</th>\n",
       "      <th>fare_class</th>\n",
       "      <th>pickup_longitude</th>\n",
       "      <th>pickup_latitude</th>\n",
       "      <th>dropoff_longitude</th>\n",
       "      <th>dropoff_latitude</th>\n",
       "      <th>passenger_count</th>\n",
       "    </tr>\n",
       "  </thead>\n",
       "  <tbody>\n",
       "    <tr>\n",
       "      <th>0</th>\n",
       "      <td>2010-04-19 08:17:56 UTC</td>\n",
       "      <td>6.5</td>\n",
       "      <td>0</td>\n",
       "      <td>-73.992365</td>\n",
       "      <td>40.730521</td>\n",
       "      <td>-73.975499</td>\n",
       "      <td>40.744746</td>\n",
       "      <td>1</td>\n",
       "    </tr>\n",
       "    <tr>\n",
       "      <th>1</th>\n",
       "      <td>2010-04-17 15:43:53 UTC</td>\n",
       "      <td>6.9</td>\n",
       "      <td>0</td>\n",
       "      <td>-73.990078</td>\n",
       "      <td>40.740558</td>\n",
       "      <td>-73.974232</td>\n",
       "      <td>40.744114</td>\n",
       "      <td>1</td>\n",
       "    </tr>\n",
       "    <tr>\n",
       "      <th>2</th>\n",
       "      <td>2010-04-17 11:23:26 UTC</td>\n",
       "      <td>10.1</td>\n",
       "      <td>1</td>\n",
       "      <td>-73.994149</td>\n",
       "      <td>40.751118</td>\n",
       "      <td>-73.960064</td>\n",
       "      <td>40.766235</td>\n",
       "      <td>2</td>\n",
       "    </tr>\n",
       "    <tr>\n",
       "      <th>3</th>\n",
       "      <td>2010-04-11 21:25:03 UTC</td>\n",
       "      <td>8.9</td>\n",
       "      <td>0</td>\n",
       "      <td>-73.990485</td>\n",
       "      <td>40.756422</td>\n",
       "      <td>-73.971205</td>\n",
       "      <td>40.748192</td>\n",
       "      <td>1</td>\n",
       "    </tr>\n",
       "    <tr>\n",
       "      <th>4</th>\n",
       "      <td>2010-04-17 02:19:01 UTC</td>\n",
       "      <td>19.7</td>\n",
       "      <td>1</td>\n",
       "      <td>-73.990976</td>\n",
       "      <td>40.734202</td>\n",
       "      <td>-73.905956</td>\n",
       "      <td>40.743115</td>\n",
       "      <td>1</td>\n",
       "    </tr>\n",
       "  </tbody>\n",
       "</table>\n",
       "</div>"
      ],
      "text/plain": [
       "           pickup_datetime  fare_amount  fare_class  pickup_longitude  \\\n",
       "0  2010-04-19 08:17:56 UTC          6.5           0        -73.992365   \n",
       "1  2010-04-17 15:43:53 UTC          6.9           0        -73.990078   \n",
       "2  2010-04-17 11:23:26 UTC         10.1           1        -73.994149   \n",
       "3  2010-04-11 21:25:03 UTC          8.9           0        -73.990485   \n",
       "4  2010-04-17 02:19:01 UTC         19.7           1        -73.990976   \n",
       "\n",
       "   pickup_latitude  dropoff_longitude  dropoff_latitude  passenger_count  \n",
       "0        40.730521         -73.975499         40.744746                1  \n",
       "1        40.740558         -73.974232         40.744114                1  \n",
       "2        40.751118         -73.960064         40.766235                2  \n",
       "3        40.756422         -73.971205         40.748192                1  \n",
       "4        40.734202         -73.905956         40.743115                1  "
      ]
     },
     "execution_count": 5,
     "metadata": {},
     "output_type": "execute_result"
    }
   ],
   "source": [
    "df.head() #Seeing the first five rows of test data for exploration"
   ]
  },
  {
   "cell_type": "code",
   "execution_count": 6,
   "metadata": {},
   "outputs": [
    {
     "data": {
      "text/plain": [
       "0    80000\n",
       "1    40000\n",
       "Name: fare_class, dtype: int64"
      ]
     },
     "execution_count": 6,
     "metadata": {},
     "output_type": "execute_result"
    }
   ],
   "source": [
    "df['fare_class'].value_counts() #Displaying number of classes and its values in the fare_class column "
   ]
  },
  {
   "cell_type": "code",
   "execution_count": 7,
   "metadata": {},
   "outputs": [
    {
     "data": {
      "text/plain": [
       "pickup_datetime      0\n",
       "fare_amount          0\n",
       "fare_class           0\n",
       "pickup_longitude     0\n",
       "pickup_latitude      0\n",
       "dropoff_longitude    0\n",
       "dropoff_latitude     0\n",
       "passenger_count      0\n",
       "dtype: int64"
      ]
     },
     "execution_count": 7,
     "metadata": {},
     "output_type": "execute_result"
    }
   ],
   "source": [
    "df.isnull().sum() #Looking for the numbers of null values in each column"
   ]
  },
  {
   "cell_type": "code",
   "execution_count": 8,
   "metadata": {
    "scrolled": true
   },
   "outputs": [
    {
     "data": {
      "text/plain": [
       "0"
      ]
     },
     "execution_count": 8,
     "metadata": {},
     "output_type": "execute_result"
    }
   ],
   "source": [
    "df.duplicated().sum() #Looking for any DuPlicated rows in the data frame to remove it"
   ]
  },
  {
   "cell_type": "markdown",
   "metadata": {},
   "source": [
    "- There is no duplicate rows in the dataset"
   ]
  },
  {
   "cell_type": "code",
   "execution_count": 9,
   "metadata": {},
   "outputs": [
    {
     "data": {
      "text/html": [
       "<div>\n",
       "<style scoped>\n",
       "    .dataframe tbody tr th:only-of-type {\n",
       "        vertical-align: middle;\n",
       "    }\n",
       "\n",
       "    .dataframe tbody tr th {\n",
       "        vertical-align: top;\n",
       "    }\n",
       "\n",
       "    .dataframe thead th {\n",
       "        text-align: right;\n",
       "    }\n",
       "</style>\n",
       "<table border=\"1\" class=\"dataframe\">\n",
       "  <thead>\n",
       "    <tr style=\"text-align: right;\">\n",
       "      <th></th>\n",
       "      <th>fare_amount</th>\n",
       "      <th>fare_class</th>\n",
       "      <th>pickup_longitude</th>\n",
       "      <th>pickup_latitude</th>\n",
       "      <th>dropoff_longitude</th>\n",
       "      <th>dropoff_latitude</th>\n",
       "      <th>passenger_count</th>\n",
       "    </tr>\n",
       "  </thead>\n",
       "  <tbody>\n",
       "    <tr>\n",
       "      <th>count</th>\n",
       "      <td>120000.000000</td>\n",
       "      <td>120000.000000</td>\n",
       "      <td>120000.000000</td>\n",
       "      <td>120000.000000</td>\n",
       "      <td>120000.000000</td>\n",
       "      <td>120000.000000</td>\n",
       "      <td>120000.000000</td>\n",
       "    </tr>\n",
       "    <tr>\n",
       "      <th>mean</th>\n",
       "      <td>10.040326</td>\n",
       "      <td>0.333333</td>\n",
       "      <td>-73.976626</td>\n",
       "      <td>40.751443</td>\n",
       "      <td>-73.974501</td>\n",
       "      <td>40.751695</td>\n",
       "      <td>1.347167</td>\n",
       "    </tr>\n",
       "    <tr>\n",
       "      <th>std</th>\n",
       "      <td>7.500134</td>\n",
       "      <td>0.471406</td>\n",
       "      <td>0.031497</td>\n",
       "      <td>0.025821</td>\n",
       "      <td>0.032419</td>\n",
       "      <td>0.030279</td>\n",
       "      <td>0.759263</td>\n",
       "    </tr>\n",
       "    <tr>\n",
       "      <th>min</th>\n",
       "      <td>2.500000</td>\n",
       "      <td>0.000000</td>\n",
       "      <td>-74.465447</td>\n",
       "      <td>40.121653</td>\n",
       "      <td>-74.443323</td>\n",
       "      <td>40.164927</td>\n",
       "      <td>1.000000</td>\n",
       "    </tr>\n",
       "    <tr>\n",
       "      <th>25%</th>\n",
       "      <td>5.700000</td>\n",
       "      <td>0.000000</td>\n",
       "      <td>-73.992386</td>\n",
       "      <td>40.736594</td>\n",
       "      <td>-73.991478</td>\n",
       "      <td>40.735914</td>\n",
       "      <td>1.000000</td>\n",
       "    </tr>\n",
       "    <tr>\n",
       "      <th>50%</th>\n",
       "      <td>7.700000</td>\n",
       "      <td>0.000000</td>\n",
       "      <td>-73.982084</td>\n",
       "      <td>40.753661</td>\n",
       "      <td>-73.980411</td>\n",
       "      <td>40.754441</td>\n",
       "      <td>1.000000</td>\n",
       "    </tr>\n",
       "    <tr>\n",
       "      <th>75%</th>\n",
       "      <td>11.300000</td>\n",
       "      <td>1.000000</td>\n",
       "      <td>-73.968710</td>\n",
       "      <td>40.768020</td>\n",
       "      <td>-73.965500</td>\n",
       "      <td>40.768880</td>\n",
       "      <td>1.000000</td>\n",
       "    </tr>\n",
       "    <tr>\n",
       "      <th>max</th>\n",
       "      <td>49.900000</td>\n",
       "      <td>1.000000</td>\n",
       "      <td>-73.311845</td>\n",
       "      <td>40.981292</td>\n",
       "      <td>-73.496140</td>\n",
       "      <td>40.993498</td>\n",
       "      <td>5.000000</td>\n",
       "    </tr>\n",
       "  </tbody>\n",
       "</table>\n",
       "</div>"
      ],
      "text/plain": [
       "         fare_amount     fare_class  pickup_longitude  pickup_latitude  \\\n",
       "count  120000.000000  120000.000000     120000.000000    120000.000000   \n",
       "mean       10.040326       0.333333        -73.976626        40.751443   \n",
       "std         7.500134       0.471406          0.031497         0.025821   \n",
       "min         2.500000       0.000000        -74.465447        40.121653   \n",
       "25%         5.700000       0.000000        -73.992386        40.736594   \n",
       "50%         7.700000       0.000000        -73.982084        40.753661   \n",
       "75%        11.300000       1.000000        -73.968710        40.768020   \n",
       "max        49.900000       1.000000        -73.311845        40.981292   \n",
       "\n",
       "       dropoff_longitude  dropoff_latitude  passenger_count  \n",
       "count      120000.000000     120000.000000    120000.000000  \n",
       "mean          -73.974501         40.751695         1.347167  \n",
       "std             0.032419          0.030279         0.759263  \n",
       "min           -74.443323         40.164927         1.000000  \n",
       "25%           -73.991478         40.735914         1.000000  \n",
       "50%           -73.980411         40.754441         1.000000  \n",
       "75%           -73.965500         40.768880         1.000000  \n",
       "max           -73.496140         40.993498         5.000000  "
      ]
     },
     "execution_count": 9,
     "metadata": {},
     "output_type": "execute_result"
    }
   ],
   "source": [
    "df.describe() # get the summary of numerical variables in the  dataset"
   ]
  },
  {
   "cell_type": "markdown",
   "metadata": {},
   "source": [
    "## Data Manipulation"
   ]
  },
  {
   "cell_type": "markdown",
   "metadata": {},
   "source": [
    "Here we found that:\n",
    "1. The time is in UTC format, So we need to convert it to US zone timing.\n",
    "2. We only need hour and the weekday parts of the **pickup_datetime** column(because the datasetrecords from April 11 to April 24, 2010) \n",
    "3. We can calculate the distance travelled in a ride using the **pickup_longitude**, **pickup_latitude**, **dropoff_longitude**, **dropoff_latitude**.\n",
    "4. We need to drop the **pickup_datatime** column as it is a str object and will be only overhead for the model."
   ]
  },
  {
   "cell_type": "code",
   "execution_count": 10,
   "metadata": {},
   "outputs": [
    {
     "data": {
      "text/html": [
       "<div>\n",
       "<style scoped>\n",
       "    .dataframe tbody tr th:only-of-type {\n",
       "        vertical-align: middle;\n",
       "    }\n",
       "\n",
       "    .dataframe tbody tr th {\n",
       "        vertical-align: top;\n",
       "    }\n",
       "\n",
       "    .dataframe thead th {\n",
       "        text-align: right;\n",
       "    }\n",
       "</style>\n",
       "<table border=\"1\" class=\"dataframe\">\n",
       "  <thead>\n",
       "    <tr style=\"text-align: right;\">\n",
       "      <th></th>\n",
       "      <th>pickup_datetime</th>\n",
       "      <th>fare_amount</th>\n",
       "      <th>fare_class</th>\n",
       "      <th>pickup_longitude</th>\n",
       "      <th>pickup_latitude</th>\n",
       "      <th>dropoff_longitude</th>\n",
       "      <th>dropoff_latitude</th>\n",
       "      <th>passenger_count</th>\n",
       "      <th>Hour</th>\n",
       "      <th>Weekday</th>\n",
       "    </tr>\n",
       "  </thead>\n",
       "  <tbody>\n",
       "    <tr>\n",
       "      <th>0</th>\n",
       "      <td>2010-04-19 04:17:56+00:00</td>\n",
       "      <td>6.5</td>\n",
       "      <td>0</td>\n",
       "      <td>-73.992365</td>\n",
       "      <td>40.730521</td>\n",
       "      <td>-73.975499</td>\n",
       "      <td>40.744746</td>\n",
       "      <td>1</td>\n",
       "      <td>4</td>\n",
       "      <td>Mon</td>\n",
       "    </tr>\n",
       "    <tr>\n",
       "      <th>1</th>\n",
       "      <td>2010-04-17 11:43:53+00:00</td>\n",
       "      <td>6.9</td>\n",
       "      <td>0</td>\n",
       "      <td>-73.990078</td>\n",
       "      <td>40.740558</td>\n",
       "      <td>-73.974232</td>\n",
       "      <td>40.744114</td>\n",
       "      <td>1</td>\n",
       "      <td>11</td>\n",
       "      <td>Sat</td>\n",
       "    </tr>\n",
       "    <tr>\n",
       "      <th>2</th>\n",
       "      <td>2010-04-17 07:23:26+00:00</td>\n",
       "      <td>10.1</td>\n",
       "      <td>1</td>\n",
       "      <td>-73.994149</td>\n",
       "      <td>40.751118</td>\n",
       "      <td>-73.960064</td>\n",
       "      <td>40.766235</td>\n",
       "      <td>2</td>\n",
       "      <td>7</td>\n",
       "      <td>Sat</td>\n",
       "    </tr>\n",
       "    <tr>\n",
       "      <th>3</th>\n",
       "      <td>2010-04-11 17:25:03+00:00</td>\n",
       "      <td>8.9</td>\n",
       "      <td>0</td>\n",
       "      <td>-73.990485</td>\n",
       "      <td>40.756422</td>\n",
       "      <td>-73.971205</td>\n",
       "      <td>40.748192</td>\n",
       "      <td>1</td>\n",
       "      <td>17</td>\n",
       "      <td>Sun</td>\n",
       "    </tr>\n",
       "    <tr>\n",
       "      <th>4</th>\n",
       "      <td>2010-04-16 22:19:01+00:00</td>\n",
       "      <td>19.7</td>\n",
       "      <td>1</td>\n",
       "      <td>-73.990976</td>\n",
       "      <td>40.734202</td>\n",
       "      <td>-73.905956</td>\n",
       "      <td>40.743115</td>\n",
       "      <td>1</td>\n",
       "      <td>22</td>\n",
       "      <td>Fri</td>\n",
       "    </tr>\n",
       "  </tbody>\n",
       "</table>\n",
       "</div>"
      ],
      "text/plain": [
       "            pickup_datetime  fare_amount  fare_class  pickup_longitude  \\\n",
       "0 2010-04-19 04:17:56+00:00          6.5           0        -73.992365   \n",
       "1 2010-04-17 11:43:53+00:00          6.9           0        -73.990078   \n",
       "2 2010-04-17 07:23:26+00:00         10.1           1        -73.994149   \n",
       "3 2010-04-11 17:25:03+00:00          8.9           0        -73.990485   \n",
       "4 2010-04-16 22:19:01+00:00         19.7           1        -73.990976   \n",
       "\n",
       "   pickup_latitude  dropoff_longitude  dropoff_latitude  passenger_count  \\\n",
       "0        40.730521         -73.975499         40.744746                1   \n",
       "1        40.740558         -73.974232         40.744114                1   \n",
       "2        40.751118         -73.960064         40.766235                2   \n",
       "3        40.756422         -73.971205         40.748192                1   \n",
       "4        40.734202         -73.905956         40.743115                1   \n",
       "\n",
       "   Hour Weekday  \n",
       "0     4     Mon  \n",
       "1    11     Sat  \n",
       "2     7     Sat  \n",
       "3    17     Sun  \n",
       "4    22     Fri  "
      ]
     },
     "execution_count": 10,
     "metadata": {},
     "output_type": "execute_result"
    }
   ],
   "source": [
    "#Time is in UTC which is 4 hrs ahead of US Time\n",
    "df['pickup_datetime']=pd.to_datetime(df['pickup_datetime']) - pd.Timedelta(hours=4) #Converting time to US time\n",
    "#Splitting the pickup_datetime to hour & weekday attributes\n",
    "df['Hour']=df['pickup_datetime'].dt.hour #extracting the hour from the pickup_datetime column into an external column\n",
    "df['Weekday']=df['pickup_datetime'].dt.strftime('%a') #extracting the weekday from the pickup_datetime column into an external column\n",
    "\n",
    "df.head()"
   ]
  },
  {
   "cell_type": "markdown",
   "metadata": {},
   "source": [
    "# Distance Eq"
   ]
  },
  {
   "attachments": {
    "Capture.PNG": {
     "image/png": "[encoded data removed]"
    }
   },
   "cell_type": "markdown",
   "metadata": {},
   "source": [
    "![Capture.PNG](attachment:Capture.PNG)\n"
   ]
  },
  {
   "cell_type": "code",
   "execution_count": 11,
   "metadata": {},
   "outputs": [],
   "source": [
    "# The haversine formula determines the great-circle distance between two points on a sphere given their longitudes and latitudes.\n",
    "#Important in navigation.\n",
    "def haversine_np(lon1, lat1, lon2, lat2):\n",
    "    \"\"\"\n",
    "    Calculate the great circle distance between two points\n",
    "    on the earth (specified in decimal degrees)\n",
    "\n",
    "    All args must be of equal length.    \n",
    "\n",
    "    \"\"\"\n",
    "    lon1, lat1, lon2, lat2 = map(np.radians, [lon1, lat1, lon2, lat2]) # convert from degree to radian\n",
    "\n",
    "    dlon = lon2 - lon1\n",
    "    dlat = lat2 - lat1\n",
    "\n",
    "    a = np.sin(dlat/2.0)**2 + np.cos(lat1) * np.cos(lat2) * np.sin(dlon/2.0)**2\n",
    "\n",
    "    c = 2 * np.arcsin(np.sqrt(a))\n",
    "     # average radius of Earth in kilometers\n",
    "    km = 6367 * c\n",
    "    return km"
   ]
  },
  {
   "cell_type": "code",
   "execution_count": 12,
   "metadata": {},
   "outputs": [
    {
     "data": {
      "text/html": [
       "<div>\n",
       "<style scoped>\n",
       "    .dataframe tbody tr th:only-of-type {\n",
       "        vertical-align: middle;\n",
       "    }\n",
       "\n",
       "    .dataframe tbody tr th {\n",
       "        vertical-align: top;\n",
       "    }\n",
       "\n",
       "    .dataframe thead th {\n",
       "        text-align: right;\n",
       "    }\n",
       "</style>\n",
       "<table border=\"1\" class=\"dataframe\">\n",
       "  <thead>\n",
       "    <tr style=\"text-align: right;\">\n",
       "      <th></th>\n",
       "      <th>pickup_datetime</th>\n",
       "      <th>fare_amount</th>\n",
       "      <th>fare_class</th>\n",
       "      <th>pickup_longitude</th>\n",
       "      <th>pickup_latitude</th>\n",
       "      <th>dropoff_longitude</th>\n",
       "      <th>dropoff_latitude</th>\n",
       "      <th>passenger_count</th>\n",
       "      <th>Hour</th>\n",
       "      <th>Weekday</th>\n",
       "      <th>trip_distance</th>\n",
       "    </tr>\n",
       "  </thead>\n",
       "  <tbody>\n",
       "    <tr>\n",
       "      <th>0</th>\n",
       "      <td>2010-04-19 04:17:56+00:00</td>\n",
       "      <td>6.5</td>\n",
       "      <td>0</td>\n",
       "      <td>-73.992365</td>\n",
       "      <td>40.730521</td>\n",
       "      <td>-73.975499</td>\n",
       "      <td>40.744746</td>\n",
       "      <td>1</td>\n",
       "      <td>4</td>\n",
       "      <td>Mon</td>\n",
       "      <td>2.124977</td>\n",
       "    </tr>\n",
       "    <tr>\n",
       "      <th>1</th>\n",
       "      <td>2010-04-17 11:43:53+00:00</td>\n",
       "      <td>6.9</td>\n",
       "      <td>0</td>\n",
       "      <td>-73.990078</td>\n",
       "      <td>40.740558</td>\n",
       "      <td>-73.974232</td>\n",
       "      <td>40.744114</td>\n",
       "      <td>1</td>\n",
       "      <td>11</td>\n",
       "      <td>Sat</td>\n",
       "      <td>1.391433</td>\n",
       "    </tr>\n",
       "    <tr>\n",
       "      <th>2</th>\n",
       "      <td>2010-04-17 07:23:26+00:00</td>\n",
       "      <td>10.1</td>\n",
       "      <td>1</td>\n",
       "      <td>-73.994149</td>\n",
       "      <td>40.751118</td>\n",
       "      <td>-73.960064</td>\n",
       "      <td>40.766235</td>\n",
       "      <td>2</td>\n",
       "      <td>7</td>\n",
       "      <td>Sat</td>\n",
       "      <td>3.324675</td>\n",
       "    </tr>\n",
       "    <tr>\n",
       "      <th>3</th>\n",
       "      <td>2010-04-11 17:25:03+00:00</td>\n",
       "      <td>8.9</td>\n",
       "      <td>0</td>\n",
       "      <td>-73.990485</td>\n",
       "      <td>40.756422</td>\n",
       "      <td>-73.971205</td>\n",
       "      <td>40.748192</td>\n",
       "      <td>1</td>\n",
       "      <td>17</td>\n",
       "      <td>Sun</td>\n",
       "      <td>1.862959</td>\n",
       "    </tr>\n",
       "    <tr>\n",
       "      <th>4</th>\n",
       "      <td>2010-04-16 22:19:01+00:00</td>\n",
       "      <td>19.7</td>\n",
       "      <td>1</td>\n",
       "      <td>-73.990976</td>\n",
       "      <td>40.734202</td>\n",
       "      <td>-73.905956</td>\n",
       "      <td>40.743115</td>\n",
       "      <td>1</td>\n",
       "      <td>22</td>\n",
       "      <td>Fri</td>\n",
       "      <td>7.226781</td>\n",
       "    </tr>\n",
       "  </tbody>\n",
       "</table>\n",
       "</div>"
      ],
      "text/plain": [
       "            pickup_datetime  fare_amount  fare_class  pickup_longitude  \\\n",
       "0 2010-04-19 04:17:56+00:00          6.5           0        -73.992365   \n",
       "1 2010-04-17 11:43:53+00:00          6.9           0        -73.990078   \n",
       "2 2010-04-17 07:23:26+00:00         10.1           1        -73.994149   \n",
       "3 2010-04-11 17:25:03+00:00          8.9           0        -73.990485   \n",
       "4 2010-04-16 22:19:01+00:00         19.7           1        -73.990976   \n",
       "\n",
       "   pickup_latitude  dropoff_longitude  dropoff_latitude  passenger_count  \\\n",
       "0        40.730521         -73.975499         40.744746                1   \n",
       "1        40.740558         -73.974232         40.744114                1   \n",
       "2        40.751118         -73.960064         40.766235                2   \n",
       "3        40.756422         -73.971205         40.748192                1   \n",
       "4        40.734202         -73.905956         40.743115                1   \n",
       "\n",
       "   Hour Weekday  trip_distance  \n",
       "0     4     Mon       2.124977  \n",
       "1    11     Sat       1.391433  \n",
       "2     7     Sat       3.324675  \n",
       "3    17     Sun       1.862959  \n",
       "4    22     Fri       7.226781  "
      ]
     },
     "execution_count": 12,
     "metadata": {},
     "output_type": "execute_result"
    }
   ],
   "source": [
    "#Applying the haversine function to calculate the distace of each ride in km\n",
    "df['trip_distance'] = haversine_np(df['pickup_longitude'], df['pickup_latitude'], df['dropoff_longitude'], df['dropoff_latitude'])\n",
    "df.head()"
   ]
  },
  {
   "cell_type": "code",
   "execution_count": 13,
   "metadata": {},
   "outputs": [
    {
     "data": {
      "text/html": [
       "<div>\n",
       "<style scoped>\n",
       "    .dataframe tbody tr th:only-of-type {\n",
       "        vertical-align: middle;\n",
       "    }\n",
       "\n",
       "    .dataframe tbody tr th {\n",
       "        vertical-align: top;\n",
       "    }\n",
       "\n",
       "    .dataframe thead th {\n",
       "        text-align: right;\n",
       "    }\n",
       "</style>\n",
       "<table border=\"1\" class=\"dataframe\">\n",
       "  <thead>\n",
       "    <tr style=\"text-align: right;\">\n",
       "      <th></th>\n",
       "      <th>fare_amount</th>\n",
       "      <th>fare_class</th>\n",
       "      <th>pickup_longitude</th>\n",
       "      <th>pickup_latitude</th>\n",
       "      <th>dropoff_longitude</th>\n",
       "      <th>dropoff_latitude</th>\n",
       "      <th>passenger_count</th>\n",
       "      <th>Hour</th>\n",
       "      <th>trip_distance</th>\n",
       "    </tr>\n",
       "  </thead>\n",
       "  <tbody>\n",
       "    <tr>\n",
       "      <th>fare_amount</th>\n",
       "      <td>1.000000</td>\n",
       "      <td>0.690037</td>\n",
       "      <td>0.396492</td>\n",
       "      <td>-0.179085</td>\n",
       "      <td>0.413033</td>\n",
       "      <td>-0.164657</td>\n",
       "      <td>0.034072</td>\n",
       "      <td>-0.001862</td>\n",
       "      <td>0.896157</td>\n",
       "    </tr>\n",
       "    <tr>\n",
       "      <th>fare_class</th>\n",
       "      <td>0.690037</td>\n",
       "      <td>1.000000</td>\n",
       "      <td>0.163574</td>\n",
       "      <td>-0.104847</td>\n",
       "      <td>0.220660</td>\n",
       "      <td>-0.101500</td>\n",
       "      <td>0.032022</td>\n",
       "      <td>0.039058</td>\n",
       "      <td>0.641513</td>\n",
       "    </tr>\n",
       "    <tr>\n",
       "      <th>pickup_longitude</th>\n",
       "      <td>0.396492</td>\n",
       "      <td>0.163574</td>\n",
       "      <td>1.000000</td>\n",
       "      <td>0.071137</td>\n",
       "      <td>0.287627</td>\n",
       "      <td>0.072225</td>\n",
       "      <td>-0.013618</td>\n",
       "      <td>-0.069745</td>\n",
       "      <td>0.384220</td>\n",
       "    </tr>\n",
       "    <tr>\n",
       "      <th>pickup_latitude</th>\n",
       "      <td>-0.179085</td>\n",
       "      <td>-0.104847</td>\n",
       "      <td>0.071137</td>\n",
       "      <td>1.000000</td>\n",
       "      <td>0.074658</td>\n",
       "      <td>0.402102</td>\n",
       "      <td>-0.030190</td>\n",
       "      <td>-0.115644</td>\n",
       "      <td>-0.201739</td>\n",
       "    </tr>\n",
       "    <tr>\n",
       "      <th>dropoff_longitude</th>\n",
       "      <td>0.413033</td>\n",
       "      <td>0.220660</td>\n",
       "      <td>0.287627</td>\n",
       "      <td>0.074658</td>\n",
       "      <td>1.000000</td>\n",
       "      <td>0.165349</td>\n",
       "      <td>-0.007644</td>\n",
       "      <td>-0.027906</td>\n",
       "      <td>0.441627</td>\n",
       "    </tr>\n",
       "    <tr>\n",
       "      <th>dropoff_latitude</th>\n",
       "      <td>-0.164657</td>\n",
       "      <td>-0.101500</td>\n",
       "      <td>0.072225</td>\n",
       "      <td>0.402102</td>\n",
       "      <td>0.165349</td>\n",
       "      <td>1.000000</td>\n",
       "      <td>-0.015962</td>\n",
       "      <td>-0.062332</td>\n",
       "      <td>-0.143070</td>\n",
       "    </tr>\n",
       "    <tr>\n",
       "      <th>passenger_count</th>\n",
       "      <td>0.034072</td>\n",
       "      <td>0.032022</td>\n",
       "      <td>-0.013618</td>\n",
       "      <td>-0.030190</td>\n",
       "      <td>-0.007644</td>\n",
       "      <td>-0.015962</td>\n",
       "      <td>1.000000</td>\n",
       "      <td>0.091658</td>\n",
       "      <td>0.023100</td>\n",
       "    </tr>\n",
       "    <tr>\n",
       "      <th>Hour</th>\n",
       "      <td>-0.001862</td>\n",
       "      <td>0.039058</td>\n",
       "      <td>-0.069745</td>\n",
       "      <td>-0.115644</td>\n",
       "      <td>-0.027906</td>\n",
       "      <td>-0.062332</td>\n",
       "      <td>0.091658</td>\n",
       "      <td>1.000000</td>\n",
       "      <td>0.028337</td>\n",
       "    </tr>\n",
       "    <tr>\n",
       "      <th>trip_distance</th>\n",
       "      <td>0.896157</td>\n",
       "      <td>0.641513</td>\n",
       "      <td>0.384220</td>\n",
       "      <td>-0.201739</td>\n",
       "      <td>0.441627</td>\n",
       "      <td>-0.143070</td>\n",
       "      <td>0.023100</td>\n",
       "      <td>0.028337</td>\n",
       "      <td>1.000000</td>\n",
       "    </tr>\n",
       "  </tbody>\n",
       "</table>\n",
       "</div>"
      ],
      "text/plain": [
       "                   fare_amount  fare_class  pickup_longitude  pickup_latitude  \\\n",
       "fare_amount           1.000000    0.690037          0.396492        -0.179085   \n",
       "fare_class            0.690037    1.000000          0.163574        -0.104847   \n",
       "pickup_longitude      0.396492    0.163574          1.000000         0.071137   \n",
       "pickup_latitude      -0.179085   -0.104847          0.071137         1.000000   \n",
       "dropoff_longitude     0.413033    0.220660          0.287627         0.074658   \n",
       "dropoff_latitude     -0.164657   -0.101500          0.072225         0.402102   \n",
       "passenger_count       0.034072    0.032022         -0.013618        -0.030190   \n",
       "Hour                 -0.001862    0.039058         -0.069745        -0.115644   \n",
       "trip_distance         0.896157    0.641513          0.384220        -0.201739   \n",
       "\n",
       "                   dropoff_longitude  dropoff_latitude  passenger_count  \\\n",
       "fare_amount                 0.413033         -0.164657         0.034072   \n",
       "fare_class                  0.220660         -0.101500         0.032022   \n",
       "pickup_longitude            0.287627          0.072225        -0.013618   \n",
       "pickup_latitude             0.074658          0.402102        -0.030190   \n",
       "dropoff_longitude           1.000000          0.165349        -0.007644   \n",
       "dropoff_latitude            0.165349          1.000000        -0.015962   \n",
       "passenger_count            -0.007644         -0.015962         1.000000   \n",
       "Hour                       -0.027906         -0.062332         0.091658   \n",
       "trip_distance               0.441627         -0.143070         0.023100   \n",
       "\n",
       "                       Hour  trip_distance  \n",
       "fare_amount       -0.001862       0.896157  \n",
       "fare_class         0.039058       0.641513  \n",
       "pickup_longitude  -0.069745       0.384220  \n",
       "pickup_latitude   -0.115644      -0.201739  \n",
       "dropoff_longitude -0.027906       0.441627  \n",
       "dropoff_latitude  -0.062332      -0.143070  \n",
       "passenger_count    0.091658       0.023100  \n",
       "Hour               1.000000       0.028337  \n",
       "trip_distance      0.028337       1.000000  "
      ]
     },
     "execution_count": 13,
     "metadata": {},
     "output_type": "execute_result"
    }
   ],
   "source": [
    "df.corr()"
   ]
  },
  {
   "cell_type": "code",
   "execution_count": 14,
   "metadata": {},
   "outputs": [
    {
     "data": {
      "text/html": [
       "<div>\n",
       "<style scoped>\n",
       "    .dataframe tbody tr th:only-of-type {\n",
       "        vertical-align: middle;\n",
       "    }\n",
       "\n",
       "    .dataframe tbody tr th {\n",
       "        vertical-align: top;\n",
       "    }\n",
       "\n",
       "    .dataframe thead th {\n",
       "        text-align: right;\n",
       "    }\n",
       "</style>\n",
       "<table border=\"1\" class=\"dataframe\">\n",
       "  <thead>\n",
       "    <tr style=\"text-align: right;\">\n",
       "      <th></th>\n",
       "      <th>fare_amount</th>\n",
       "      <th>fare_class</th>\n",
       "      <th>pickup_longitude</th>\n",
       "      <th>pickup_latitude</th>\n",
       "      <th>dropoff_longitude</th>\n",
       "      <th>dropoff_latitude</th>\n",
       "      <th>passenger_count</th>\n",
       "      <th>Hour</th>\n",
       "      <th>Weekday</th>\n",
       "      <th>trip_distance</th>\n",
       "      <th>AMorPM</th>\n",
       "    </tr>\n",
       "  </thead>\n",
       "  <tbody>\n",
       "    <tr>\n",
       "      <th>0</th>\n",
       "      <td>6.5</td>\n",
       "      <td>0</td>\n",
       "      <td>-73.992365</td>\n",
       "      <td>40.730521</td>\n",
       "      <td>-73.975499</td>\n",
       "      <td>40.744746</td>\n",
       "      <td>1</td>\n",
       "      <td>4</td>\n",
       "      <td>Mon</td>\n",
       "      <td>2.124977</td>\n",
       "      <td>am</td>\n",
       "    </tr>\n",
       "    <tr>\n",
       "      <th>1</th>\n",
       "      <td>6.9</td>\n",
       "      <td>0</td>\n",
       "      <td>-73.990078</td>\n",
       "      <td>40.740558</td>\n",
       "      <td>-73.974232</td>\n",
       "      <td>40.744114</td>\n",
       "      <td>1</td>\n",
       "      <td>11</td>\n",
       "      <td>Sat</td>\n",
       "      <td>1.391433</td>\n",
       "      <td>am</td>\n",
       "    </tr>\n",
       "    <tr>\n",
       "      <th>2</th>\n",
       "      <td>10.1</td>\n",
       "      <td>1</td>\n",
       "      <td>-73.994149</td>\n",
       "      <td>40.751118</td>\n",
       "      <td>-73.960064</td>\n",
       "      <td>40.766235</td>\n",
       "      <td>2</td>\n",
       "      <td>7</td>\n",
       "      <td>Sat</td>\n",
       "      <td>3.324675</td>\n",
       "      <td>am</td>\n",
       "    </tr>\n",
       "    <tr>\n",
       "      <th>3</th>\n",
       "      <td>8.9</td>\n",
       "      <td>0</td>\n",
       "      <td>-73.990485</td>\n",
       "      <td>40.756422</td>\n",
       "      <td>-73.971205</td>\n",
       "      <td>40.748192</td>\n",
       "      <td>1</td>\n",
       "      <td>17</td>\n",
       "      <td>Sun</td>\n",
       "      <td>1.862959</td>\n",
       "      <td>pm</td>\n",
       "    </tr>\n",
       "    <tr>\n",
       "      <th>4</th>\n",
       "      <td>19.7</td>\n",
       "      <td>1</td>\n",
       "      <td>-73.990976</td>\n",
       "      <td>40.734202</td>\n",
       "      <td>-73.905956</td>\n",
       "      <td>40.743115</td>\n",
       "      <td>1</td>\n",
       "      <td>22</td>\n",
       "      <td>Fri</td>\n",
       "      <td>7.226781</td>\n",
       "      <td>pm</td>\n",
       "    </tr>\n",
       "  </tbody>\n",
       "</table>\n",
       "</div>"
      ],
      "text/plain": [
       "   fare_amount  fare_class  pickup_longitude  pickup_latitude  \\\n",
       "0          6.5           0        -73.992365        40.730521   \n",
       "1          6.9           0        -73.990078        40.740558   \n",
       "2         10.1           1        -73.994149        40.751118   \n",
       "3          8.9           0        -73.990485        40.756422   \n",
       "4         19.7           1        -73.990976        40.734202   \n",
       "\n",
       "   dropoff_longitude  dropoff_latitude  passenger_count  Hour Weekday  \\\n",
       "0         -73.975499         40.744746                1     4     Mon   \n",
       "1         -73.974232         40.744114                1    11     Sat   \n",
       "2         -73.960064         40.766235                2     7     Sat   \n",
       "3         -73.971205         40.748192                1    17     Sun   \n",
       "4         -73.905956         40.743115                1    22     Fri   \n",
       "\n",
       "   trip_distance AMorPM  \n",
       "0       2.124977     am  \n",
       "1       1.391433     am  \n",
       "2       3.324675     am  \n",
       "3       1.862959     pm  \n",
       "4       7.226781     pm  "
      ]
     },
     "execution_count": 14,
     "metadata": {},
     "output_type": "execute_result"
    }
   ],
   "source": [
    "df.drop(['pickup_datetime'] , axis=1 , inplace=True)\n",
    "df['AMorPM'] = np.where(df['Hour']<12, 'am','pm')\n",
    "df.head()"
   ]
  },
  {
   "cell_type": "markdown",
   "metadata": {},
   "source": [
    "## Data Visualization"
   ]
  },
  {
   "cell_type": "code",
   "execution_count": 15,
   "metadata": {
    "scrolled": true
   },
   "outputs": [
    {
     "data": {
      "image/png": "[encoded data removed]",
      "text/plain": [
       "<Figure size 1584x1512 with 9 Axes>"
      ]
     },
     "metadata": {
      "needs_background": "light"
     },
     "output_type": "display_data"
    }
   ],
   "source": [
    "df.hist(figsize=(22,21), bins=50);"
   ]
  },
  {
   "cell_type": "markdown",
   "metadata": {},
   "source": [
    "- We found that the \"fare_amount\" column have an outlier values  that may affect the model \n",
    "- We should drop the outliers and keep the fare values above 0 and below 40\n",
    "- the busiest hour during the day is 4 pm."
   ]
  },
  {
   "cell_type": "code",
   "execution_count": 87,
   "metadata": {},
   "outputs": [
    {
     "data": {
      "image/png": "[encoded data removed]",
      "text/plain": [
       "<Figure size 864x576 with 2 Axes>"
      ]
     },
     "metadata": {
      "needs_background": "light"
     },
     "output_type": "display_data"
    }
   ],
   "source": [
    "#Heatmap of the correlation between the columns in the dataset with annotations\n",
    "plt.figure(figsize=(12,8))\n",
    "sns.heatmap(df.corr(),annot= True)\n",
    "plt.show()"
   ]
  },
  {
   "cell_type": "markdown",
   "metadata": {},
   "source": [
    "- There is a high correlation between **fare_amount** and **trip_distance**  ==> corr = 0.9.\n",
    "- There is a high correlation between **fare_amount** and **fare_class**  ==> corr = 0.69.\n",
    "- There is a high correlation between **fare_class** and **trip_distance**  ==> corr = 0.64."
   ]
  },
  {
   "cell_type": "code",
   "execution_count": 88,
   "metadata": {},
   "outputs": [
    {
     "data": {
      "text/plain": [
       "<AxesSubplot:xlabel='fare_class', ylabel='fare_amount'>"
      ]
     },
     "execution_count": 88,
     "metadata": {},
     "output_type": "execute_result"
    },
    {
     "data": {
      "image/png": "[encoded data removed]",
      "text/plain": [
       "<Figure size 864x504 with 1 Axes>"
      ]
     },
     "metadata": {
      "needs_background": "light"
     },
     "output_type": "display_data"
    }
   ],
   "source": [
    "plt.figure(figsize=(12 , 7))\n",
    "\n",
    "sns.boxplot(x='fare_class' , y='fare_amount' , data= df)"
   ]
  },
  {
   "cell_type": "markdown",
   "metadata": {},
   "source": [
    "- We have found that if the **fare_amount** is less than 10 dollars, then the **fare_class** would be 0 *AND* if the **fare_amount** is more than 10 dollars, then the **fare_class** would be 1."
   ]
  },
  {
   "cell_type": "code",
   "execution_count": 89,
   "metadata": {},
   "outputs": [],
   "source": [
    "# Dropping the rows containing outlier **fare_amount** values\n",
    "df = df[(df['fare_amount'] >= 1.) & (df['fare_amount'] <= 40.)]"
   ]
  },
  {
   "cell_type": "markdown",
   "metadata": {},
   "source": [
    "- we have dropped 1% of all the data."
   ]
  },
  {
   "cell_type": "markdown",
   "metadata": {},
   "source": [
    "# Separate categorical from continuous columns\n"
   ]
  },
  {
   "cell_type": "markdown",
   "metadata": {},
   "source": [
    "- we will use 6 continous columns and 3 categorical columns in training process."
   ]
  },
  {
   "cell_type": "code",
   "execution_count": 98,
   "metadata": {},
   "outputs": [],
   "source": [
    "cat_cols = ['Hour', 'AMorPM', 'Weekday'] # categorical columns"
   ]
  },
  {
   "cell_type": "code",
   "execution_count": 99,
   "metadata": {},
   "outputs": [],
   "source": [
    "# continous columns\n",
    "cont_cols = ['pickup_latitude', 'pickup_longitude', 'dropoff_latitude', 'dropoff_longitude', 'passenger_count' ,'trip_distance']"
   ]
  },
  {
   "cell_type": "markdown",
   "metadata": {},
   "source": [
    "- we will not use fare_class column as we won't make a classification model instead we will make a regression model, so we will use the fare_amount column instead."
   ]
  },
  {
   "cell_type": "code",
   "execution_count": 100,
   "metadata": {},
   "outputs": [],
   "source": [
    "# Output column\n",
    "y_col = ['fare_amount']"
   ]
  },
  {
   "cell_type": "code",
   "execution_count": 101,
   "metadata": {},
   "outputs": [
    {
     "data": {
      "text/plain": [
       "fare_amount           float64\n",
       "fare_class              int64\n",
       "pickup_longitude      float64\n",
       "pickup_latitude       float64\n",
       "dropoff_longitude     float64\n",
       "dropoff_latitude      float64\n",
       "passenger_count         int64\n",
       "Hour                 category\n",
       "Weekday              category\n",
       "trip_distance         float64\n",
       "AMorPM               category\n",
       "dtype: object"
      ]
     },
     "execution_count": 101,
     "metadata": {},
     "output_type": "execute_result"
    }
   ],
   "source": [
    "df.dtypes"
   ]
  },
  {
   "cell_type": "code",
   "execution_count": 102,
   "metadata": {},
   "outputs": [],
   "source": [
    "# for loop to convert the data type of the categorical columns to **category** data type\n",
    "for cat in cat_cols:\n",
    "    df[cat] = df[cat].astype('category')"
   ]
  },
  {
   "cell_type": "code",
   "execution_count": 103,
   "metadata": {},
   "outputs": [
    {
     "data": {
      "text/plain": [
       "fare_amount           float64\n",
       "fare_class              int64\n",
       "pickup_longitude      float64\n",
       "pickup_latitude       float64\n",
       "dropoff_longitude     float64\n",
       "dropoff_latitude      float64\n",
       "passenger_count         int64\n",
       "Hour                 category\n",
       "Weekday              category\n",
       "trip_distance         float64\n",
       "AMorPM               category\n",
       "dtype: object"
      ]
     },
     "execution_count": 103,
     "metadata": {},
     "output_type": "execute_result"
    }
   ],
   "source": [
    "df.dtypes"
   ]
  },
  {
   "cell_type": "code",
   "execution_count": 104,
   "metadata": {},
   "outputs": [
    {
     "data": {
      "text/plain": [
       "tensor([[ 4,  0,  1],\n",
       "        [11,  0,  2],\n",
       "        [ 7,  0,  2],\n",
       "        ...,\n",
       "        [14,  1,  3],\n",
       "        [ 4,  0,  5],\n",
       "        [12,  1,  2]])"
      ]
     },
     "execution_count": 104,
     "metadata": {},
     "output_type": "execute_result"
    }
   ],
   "source": [
    "cats = np.stack([df[col].cat.codes for col in cat_cols], axis=1) \n",
    "cats = torch.tensor(cats,dtype=torch.int64)\n",
    "cats"
   ]
  },
  {
   "cell_type": "markdown",
   "metadata": {},
   "source": [
    "1- **df[col].cat.codes** => assign dummy data of each column in an array of list \n",
    "\n",
    "2- Convert continuous variables to a Float tensor to be more accurate values\n",
    "\n",
    "3- Join a sequence of arrays along a new axis , sequence of array_like Each array must have the **same shape**\n",
    " \n",
    "4- Convert categorical variables to a tensor"
   ]
  },
  {
   "cell_type": "code",
   "execution_count": 105,
   "metadata": {},
   "outputs": [],
   "source": [
    "# in another way we do the same steps of converting continuous variables to array then join it in stack\n",
    "conts = np.stack([df[col].values for col in cont_cols], axis=1) \n",
    "conts = torch.tensor(conts, dtype = torch.float)  # Convert continuous variables to a Float tensor to be more accurate values"
   ]
  },
  {
   "cell_type": "code",
   "execution_count": 106,
   "metadata": {},
   "outputs": [
    {
     "data": {
      "text/plain": [
       "tensor([[ 40.7305, -73.9924,  40.7447, -73.9755,   1.0000,   2.1250],\n",
       "        [ 40.7406, -73.9901,  40.7441, -73.9742,   1.0000,   1.3914],\n",
       "        [ 40.7511, -73.9941,  40.7662, -73.9601,   2.0000,   3.3247],\n",
       "        ...,\n",
       "        [ 40.7498, -73.9886,  40.7078, -74.0115,   3.0000,   5.0494],\n",
       "        [ 40.7245, -74.0044,  40.7308, -73.9927,   1.0000,   1.2082],\n",
       "        [ 40.7719, -73.9554,  40.7630, -73.9676,   3.0000,   1.4265]])"
      ]
     },
     "execution_count": 106,
     "metadata": {},
     "output_type": "execute_result"
    }
   ],
   "source": [
    "conts"
   ]
  },
  {
   "cell_type": "code",
   "execution_count": 107,
   "metadata": {},
   "outputs": [],
   "source": [
    "#Convert Output column **fare_amount** to a Float tensor to be more accurate values\n",
    "y = torch.tensor(df[y_col].values, dtype=torch.float).reshape(-1,1) #We have provided column as 1 but rows as unknown\n",
    "# i want to do reshape with one column (fare_amount) but with unkown number of rows so i specified -1 in rows"
   ]
  },
  {
   "cell_type": "code",
   "execution_count": 108,
   "metadata": {},
   "outputs": [
    {
     "data": {
      "text/plain": [
       "[24, 2, 7]"
      ]
     },
     "execution_count": 108,
     "metadata": {},
     "output_type": "execute_result"
    }
   ],
   "source": [
    "# define the number(length) of categories in each column in categorical columns \n",
    "cat_szs = [len(df[col].cat.categories) for col in cat_cols]\n",
    "cat_szs"
   ]
  },
  {
   "cell_type": "markdown",
   "metadata": {},
   "source": [
    "# Set an embedding size\n",
    "The rule of thumb for determining the embedding size is to divide the number of unique entries in each column by 2 and can be changed, but not to exceed 50. "
   ]
  },
  {
   "cell_type": "code",
   "execution_count": 109,
   "metadata": {},
   "outputs": [],
   "source": [
    "# This will set embedding sizes for Hours, AMorPM and Weekdays [ // floor division.]\n",
    "emb_szs = [(size, min(50, (size+1)//2)) for size in cat_szs]  # (size+1)//2 consider the size of vector of each word in size "
   ]
  },
  {
   "cell_type": "code",
   "execution_count": 110,
   "metadata": {},
   "outputs": [
    {
     "data": {
      "text/plain": [
       "[(24, 12), (2, 1), (7, 4)]"
      ]
     },
     "execution_count": 110,
     "metadata": {},
     "output_type": "execute_result"
    }
   ],
   "source": [
    "emb_szs"
   ]
  },
  {
   "cell_type": "markdown",
   "metadata": {},
   "source": [
    "# Categorical Embeddings\n",
    ".Categorical embeddings are very similar to word embeddings which are commonly used in **NLP**.\n",
    "\n",
    ".The basic idea is to have a **fixed-length** vector representation of each category in the column.\n",
    "\n",
    ".**one-hot encoding** is that instead of having a sparse matrix, using **embeddings**, we get a dense matrix for each category     with similar categories having values close to each other in the embedding space\n",
    "\n",
    ".**nn.Embedding** => This module is often used to store word embeddings and retrieve them using indices.The input to the module is      a list of indices, and the output is the correspondingword embeddings\n"
   ]
  },
  {
   "cell_type": "code",
   "execution_count": 111,
   "metadata": {},
   "outputs": [
    {
     "data": {
      "text/plain": [
       "[Embedding(24, 12), Embedding(2, 1), Embedding(7, 4)]"
      ]
     },
     "execution_count": 111,
     "metadata": {},
     "output_type": "execute_result"
    }
   ],
   "source": [
    "#A simple lookup table(list) that stores embeddings of a fixed dictionary and size.\n",
    "em = [nn.Embedding(ni,nf) for ni,nf in emb_szs]# ni: size of the dictionary of embeddings , nf: the size of each embedding vector\n",
    "em"
   ]
  },
  {
   "cell_type": "code",
   "execution_count": 112,
   "metadata": {},
   "outputs": [],
   "source": [
    "selfembeds = nn.ModuleList(em) # Holds submodules in a list"
   ]
  },
  {
   "cell_type": "code",
   "execution_count": 113,
   "metadata": {},
   "outputs": [
    {
     "data": {
      "text/plain": [
       "ModuleList(\n",
       "  (0): Embedding(24, 12)\n",
       "  (1): Embedding(2, 1)\n",
       "  (2): Embedding(7, 4)\n",
       ")"
      ]
     },
     "execution_count": 113,
     "metadata": {},
     "output_type": "execute_result"
    }
   ],
   "source": [
    "selfembeds"
   ]
  },
  {
   "cell_type": "code",
   "execution_count": 114,
   "metadata": {},
   "outputs": [],
   "source": [
    "# FORWARD METHOD (cats)\n",
    "embeddingz = []\n",
    "\n",
    "for i,e in enumerate(selfembeds):  # i = 0,1,2\n",
    "    embeddingz.append(e(cats[:,i]))"
   ]
  },
  {
   "cell_type": "code",
   "execution_count": 115,
   "metadata": {},
   "outputs": [
    {
     "data": {
      "text/plain": [
       "[tensor([[ 0.4955,  1.5808, -0.8403,  ..., -0.2899,  0.6970, -0.7475],\n",
       "         [-0.3037, -0.2741, -0.6289,  ..., -1.4074,  1.4221, -1.2426],\n",
       "         [-0.5015,  1.2622, -0.2445,  ..., -1.1859, -0.2568,  0.0948],\n",
       "         ...,\n",
       "         [-1.8649,  0.4643, -1.0442,  ...,  1.3783,  0.1788, -0.4794],\n",
       "         [ 0.4955,  1.5808, -0.8403,  ..., -0.2899,  0.6970, -0.7475],\n",
       "         [-0.2965, -1.2221,  1.1662,  ..., -0.6398,  0.6668, -0.8419]],\n",
       "        grad_fn=<EmbeddingBackward0>),\n",
       " tensor([[ 1.1432],\n",
       "         [ 1.1432],\n",
       "         [ 1.1432],\n",
       "         ...,\n",
       "         [-0.1014],\n",
       "         [ 1.1432],\n",
       "         [-0.1014]], grad_fn=<EmbeddingBackward0>),\n",
       " tensor([[ 1.1708,  1.4291,  1.9396,  0.5575],\n",
       "         [-1.2788,  0.3359, -0.7115,  1.0314],\n",
       "         [-1.2788,  0.3359, -0.7115,  1.0314],\n",
       "         ...,\n",
       "         [ 0.0981,  0.1508,  0.6982, -1.4365],\n",
       "         [ 1.2616, -0.8479,  1.1029, -1.6366],\n",
       "         [-1.2788,  0.3359, -0.7115,  1.0314]], grad_fn=<EmbeddingBackward0>)]"
      ]
     },
     "execution_count": 115,
     "metadata": {},
     "output_type": "execute_result"
    }
   ],
   "source": [
    "embeddingz"
   ]
  },
  {
   "cell_type": "code",
   "execution_count": 116,
   "metadata": {},
   "outputs": [],
   "source": [
    "## We concatenate the embedding sections (12,1,4) into one (17)\n",
    "## concat the categorical data in one list\n",
    "z = torch.cat(embeddingz , 1) "
   ]
  },
  {
   "cell_type": "code",
   "execution_count": 117,
   "metadata": {},
   "outputs": [
    {
     "data": {
      "text/plain": [
       "tensor([[ 0.4955,  1.5808, -0.8403,  ...,  1.4291,  1.9396,  0.5575],\n",
       "        [-0.3037, -0.2741, -0.6289,  ...,  0.3359, -0.7115,  1.0314],\n",
       "        [-0.5015,  1.2622, -0.2445,  ...,  0.3359, -0.7115,  1.0314],\n",
       "        ...,\n",
       "        [-1.8649,  0.4643, -1.0442,  ...,  0.1508,  0.6982, -1.4365],\n",
       "        [ 0.4955,  1.5808, -0.8403,  ..., -0.8479,  1.1029, -1.6366],\n",
       "        [-0.2965, -1.2221,  1.1662,  ...,  0.3359, -0.7115,  1.0314]],\n",
       "       grad_fn=<CatBackward0>)"
      ]
     },
     "execution_count": 117,
     "metadata": {},
     "output_type": "execute_result"
    }
   ],
   "source": [
    "z"
   ]
  },
  {
   "cell_type": "code",
   "execution_count": 118,
   "metadata": {},
   "outputs": [
    {
     "data": {
      "text/plain": [
       "Dropout(p=0.4, inplace=False)"
      ]
     },
     "execution_count": 118,
     "metadata": {},
     "output_type": "execute_result"
    }
   ],
   "source": [
    "# During training, randomly zeroes some of the elements of the input tensor with probability 'p' using samples from a Bernoulli\n",
    "# distribution. the outputs are scaled by a factor of 1/(1-p) during training.  \n",
    "selfembdrop = nn.Dropout(0.4)  \n",
    "selfembdrop"
   ]
  },
  {
   "cell_type": "code",
   "execution_count": 119,
   "metadata": {},
   "outputs": [],
   "source": [
    "z = selfembdrop(z)"
   ]
  },
  {
   "cell_type": "code",
   "execution_count": 120,
   "metadata": {},
   "outputs": [
    {
     "data": {
      "text/plain": [
       "tensor([[ 0.0000,  0.0000, -0.0000,  ...,  2.3819,  0.0000,  0.9291],\n",
       "        [-0.0000, -0.4568, -0.0000,  ...,  0.0000, -1.1858,  1.7191],\n",
       "        [-0.0000,  2.1037, -0.0000,  ...,  0.0000, -1.1858,  0.0000],\n",
       "        ...,\n",
       "        [-0.0000,  0.7738, -0.0000,  ...,  0.0000,  1.1637, -2.3942],\n",
       "        [ 0.0000,  2.6346, -1.4006,  ..., -1.4132,  1.8382, -0.0000],\n",
       "        [-0.4942, -2.0368,  1.9437,  ...,  0.5599, -0.0000,  0.0000]],\n",
       "       grad_fn=<MulBackward0>)"
      ]
     },
     "execution_count": 120,
     "metadata": {},
     "output_type": "execute_result"
    }
   ],
   "source": [
    "z "
   ]
  },
  {
   "attachments": {
    "Capture.PNG": {
     "image/png": "[encoded data removed]"
    }
   },
   "cell_type": "markdown",
   "metadata": {},
   "source": [
    "![Capture.PNG](attachment:Capture.PNG)"
   ]
  },
  {
   "cell_type": "markdown",
   "metadata": {},
   "source": [
    "# ANN MODEL"
   ]
  },
  {
   "cell_type": "code",
   "execution_count": 121,
   "metadata": {},
   "outputs": [],
   "source": [
    "class TabularModel(nn.Module):\n",
    "\n",
    "    def __init__(self, emb_szs, n_cont, out_sz, layers, p):\n",
    "        super().__init__()\n",
    "        self.embeds = nn.ModuleList([nn.Embedding(ni, nf) for ni,nf in emb_szs]) #  Can be indexed like a regular Python list\n",
    "        self.emb_drop = nn.Dropout(p) # Drop roundom values \n",
    "        self.bn_cont = nn.BatchNorm1d(n_cont) # normalization for ex [0 ,1]\n",
    "        \n",
    "        layerlist = []\n",
    "        n_emb = sum((nf for ni,nf in emb_szs))\n",
    "        n_in = n_emb + n_cont\n",
    "        \n",
    "        for i in layers:\n",
    "            layerlist.append(nn.Linear(n_in,i)) \n",
    "            layerlist.append(nn.ReLU(inplace=True))\n",
    "            layerlist.append(nn.BatchNorm1d(i))\n",
    "            layerlist.append(nn.Dropout(p))\n",
    "            n_in = i\n",
    "        layerlist.append(nn.Linear(layers[-1],out_sz))\n",
    "            \n",
    "        self.layers = nn.Sequential(*layerlist)\n",
    "    \n",
    "    def forward(self, x_cat, x_cont):\n",
    "        embeddings = []\n",
    "        for i,e in enumerate(self.embeds):\n",
    "            embeddings.append(e(x_cat[:,i]))\n",
    "        x = torch.cat(embeddings, 1)\n",
    "        x = self.emb_drop(x)\n",
    "        \n",
    "        x_cont = self.bn_cont(x_cont)\n",
    "        x = torch.cat([x, x_cont], 1)\n",
    "        x = self.layers(x)\n",
    "        return x"
   ]
  },
  {
   "cell_type": "code",
   "execution_count": 122,
   "metadata": {},
   "outputs": [],
   "source": [
    "torch.manual_seed(32)\n",
    "model = TabularModel(emb_szs, conts.shape[1],1,[200,100],p=0.5)"
   ]
  },
  {
   "cell_type": "code",
   "execution_count": 123,
   "metadata": {},
   "outputs": [
    {
     "data": {
      "text/plain": [
       "TabularModel(\n",
       "  (embeds): ModuleList(\n",
       "    (0): Embedding(24, 12)\n",
       "    (1): Embedding(2, 1)\n",
       "    (2): Embedding(7, 4)\n",
       "  )\n",
       "  (emb_drop): Dropout(p=0.5, inplace=False)\n",
       "  (bn_cont): BatchNorm1d(6, eps=1e-05, momentum=0.1, affine=True, track_running_stats=True)\n",
       "  (layers): Sequential(\n",
       "    (0): Linear(in_features=23, out_features=200, bias=True)\n",
       "    (1): ReLU(inplace=True)\n",
       "    (2): BatchNorm1d(200, eps=1e-05, momentum=0.1, affine=True, track_running_stats=True)\n",
       "    (3): Dropout(p=0.5, inplace=False)\n",
       "    (4): Linear(in_features=200, out_features=100, bias=True)\n",
       "    (5): ReLU(inplace=True)\n",
       "    (6): BatchNorm1d(100, eps=1e-05, momentum=0.1, affine=True, track_running_stats=True)\n",
       "    (7): Dropout(p=0.5, inplace=False)\n",
       "    (8): Linear(in_features=100, out_features=1, bias=True)\n",
       "  )\n",
       ")"
      ]
     },
     "execution_count": 123,
     "metadata": {},
     "output_type": "execute_result"
    }
   ],
   "source": [
    "model"
   ]
  },
  {
   "cell_type": "code",
   "execution_count": 124,
   "metadata": {},
   "outputs": [],
   "source": [
    "criterion = nn.MSELoss()  # np.sqrt(MSE --> RMSE)\n",
    "optimizer = torch.optim.Adam(model.parameters(), lr=0.001)"
   ]
  },
  {
   "cell_type": "code",
   "execution_count": 125,
   "metadata": {},
   "outputs": [],
   "source": [
    "batch_size = 60000\n",
    "test_size = int(batch_size*0.2)"
   ]
  },
  {
   "cell_type": "code",
   "execution_count": 126,
   "metadata": {},
   "outputs": [],
   "source": [
    "# DATA SHUFFLED ALREADY\n",
    "\n",
    "cat_train = cats[:batch_size-test_size] # all data to batch_size-test_size  (60000 - 12000) => 48000 record\n",
    "cat_test = cats[batch_size-test_size:batch_size] # 12000 record\n",
    "con_train = conts[:batch_size-test_size]\n",
    "con_test = conts[batch_size-test_size:batch_size]"
   ]
  },
  {
   "cell_type": "code",
   "execution_count": 127,
   "metadata": {},
   "outputs": [],
   "source": [
    "y_train = y[:batch_size-test_size]\n",
    "y_test = y[batch_size-test_size:batch_size]"
   ]
  },
  {
   "cell_type": "code",
   "execution_count": 128,
   "metadata": {},
   "outputs": [
    {
     "name": "stdout",
     "output_type": "stream",
     "text": [
      "48000\n",
      "48000\n",
      "48000\n"
     ]
    }
   ],
   "source": [
    "print(len(cat_train))\n",
    "print(len(con_train))\n",
    "print(len(y_train))"
   ]
  },
  {
   "cell_type": "code",
   "execution_count": 129,
   "metadata": {},
   "outputs": [
    {
     "name": "stdout",
     "output_type": "stream",
     "text": [
      "12000\n",
      "12000\n",
      "12000\n"
     ]
    }
   ],
   "source": [
    "print(len(cat_test))\n",
    "print(len(con_test))\n",
    "print(len(y_test))"
   ]
  },
  {
   "cell_type": "code",
   "execution_count": 80,
   "metadata": {},
   "outputs": [
    {
     "name": "stdout",
     "output_type": "stream",
     "text": [
      "epoch: 25 loss is 9.994227409362793\n",
      "epoch: 50 loss is 9.565500259399414\n",
      "epoch: 75 loss is 9.187529563903809\n",
      "epoch: 100 loss is 8.620903015136719\n",
      "epoch: 125 loss is 7.748589992523193\n",
      "epoch: 150 loss is 6.618377208709717\n",
      "epoch: 175 loss is 5.367107391357422\n",
      "epoch: 200 loss is 4.259912490844727\n",
      "epoch: 225 loss is 3.6606831550598145\n",
      "epoch: 250 loss is 3.466951847076416\n",
      "epoch: 275 loss is 3.3591859340667725\n",
      "epoch: 300 loss is 3.2414212226867676\n",
      "epoch: 325 loss is 3.198140859603882\n",
      "epoch: 350 loss is 3.108447790145874\n",
      "epoch: 375 loss is 3.06982159614563\n",
      "epoch: 400 loss is 3.020530939102173\n",
      "Training took 5.989217527707418 minutes\n"
     ]
    }
   ],
   "source": [
    "import time\n",
    "\n",
    "start_time = time.time()\n",
    "\n",
    "epoch = 400\n",
    "losses = []\n",
    "\n",
    "for i in range(1, epoch+1):\n",
    "    \n",
    "    y_pred = model(cat_train,con_train) # Call Forward method in class\n",
    "    loss = torch.sqrt(criterion(y_pred,y_train))  # np.sqrt(MSE --> RMSE)\n",
    "    losses.append(loss.detach().numpy()) # convert to numpy then appeand to be able to plot it \n",
    "    \n",
    "    if i%25 == 0:\n",
    "        print(f'epoch: {i} loss is {loss}')\n",
    "        \n",
    "    optimizer.zero_grad()  # look where the grad is min, since we we want the min point (gradient descent)\n",
    "    loss.backward()\n",
    "    optimizer.step()  # step back through neurons\n",
    "    \n",
    "duration = time.time() - start_time\n",
    "print(f'Training took {duration/60} minutes')"
   ]
  },
  {
   "cell_type": "code",
   "execution_count": 81,
   "metadata": {},
   "outputs": [
    {
     "data": {
      "text/plain": [
       "Text(0, 0.5, 'Losses')"
      ]
     },
     "execution_count": 81,
     "metadata": {},
     "output_type": "execute_result"
    },
    {
     "data": {
      "image/png": "[encoded data removed]",
      "text/plain": [
       "<Figure size 432x288 with 1 Axes>"
      ]
     },
     "metadata": {
      "needs_background": "light"
     },
     "output_type": "display_data"
    }
   ],
   "source": [
    "plt.plot(range(epoch),losses)\n",
    "    \n",
    "plt.xlabel(\"epochs\" , color='green')\n",
    "plt.ylabel(\"Losses\", color='green')"
   ]
  },
  {
   "cell_type": "code",
   "execution_count": 82,
   "metadata": {},
   "outputs": [],
   "source": [
    "with torch.no_grad():\n",
    "    \n",
    "    y_val = model(cat_test,con_test)\n",
    "    \n",
    "    loss = torch.sqrt(criterion(y_val,y_test))"
   ]
  },
  {
   "cell_type": "code",
   "execution_count": 83,
   "metadata": {},
   "outputs": [
    {
     "data": {
      "text/plain": [
       "tensor(2.9627)"
      ]
     },
     "execution_count": 83,
     "metadata": {},
     "output_type": "execute_result"
    }
   ],
   "source": [
    "loss"
   ]
  },
  {
   "cell_type": "code",
   "execution_count": 84,
   "metadata": {},
   "outputs": [
    {
     "name": "stdout",
     "output_type": "stream",
     "text": [
      "0.) Predicted:     5.03 True:     4.90 Difference:0.1335773468017578\n",
      "1.) Predicted:     5.66 True:     4.50 Difference:1.1609134674072266\n",
      "2.) Predicted:     4.77 True:     4.50 Difference:0.26691532135009766\n",
      "3.) Predicted:     6.36 True:     3.70 Difference:2.658893346786499\n",
      "4.) Predicted:     7.24 True:     8.90 Difference:1.6638898849487305\n",
      "5.) Predicted:    14.49 True:    14.90 Difference:0.4149646759033203\n",
      "6.) Predicted:     9.32 True:     7.70 Difference:1.6196165084838867\n",
      "7.) Predicted:     8.26 True:     8.50 Difference:0.2363424301147461\n",
      "8.) Predicted:    10.56 True:    11.70 Difference:1.1419696807861328\n",
      "9.) Predicted:     4.37 True:     6.10 Difference:1.733644962310791\n",
      "10.) Predicted:     2.95 True:     4.10 Difference:1.1481826305389404\n",
      "11.) Predicted:    18.40 True:    13.70 Difference:4.702242851257324\n",
      "12.) Predicted:     5.79 True:     8.50 Difference:2.706178665161133\n",
      "13.) Predicted:     5.43 True:     7.30 Difference:1.8679208755493164\n",
      "14.) Predicted:     5.59 True:     5.70 Difference:0.11360931396484375\n"
     ]
    }
   ],
   "source": [
    "for i in range(15):\n",
    "    diff = np.abs(y_val[i].item() - y_test[i].item())\n",
    "    print(f'{i}.) Predicted: {y_val[i].item():8.2f} True: {y_test[i].item():8.2f} Difference:{diff}')"
   ]
  },
  {
   "cell_type": "code",
   "execution_count": 96,
   "metadata": {},
   "outputs": [
    {
     "name": "stdout",
     "output_type": "stream",
     "text": [
      "╒═══════════╤════════════════════════════════════╤══════════════╕\n",
      "│   Try Num │ Try                                │   Accuracy % │\n",
      "╞═══════════╪════════════════════════════════════╪══════════════╡\n",
      "│         1 │ fare_amount Before delete outliers │      96.3975 │\n",
      "├───────────┼────────────────────────────────────┼──────────────┤\n",
      "│         2 │ fare_amount After delete outliers  │      96.9485 │\n",
      "├───────────┼────────────────────────────────────┼──────────────┤\n",
      "│         3 │ epochs incresses to 400            │      97.1884 │\n",
      "├───────────┼────────────────────────────────────┼──────────────┤\n",
      "│         4 │ longitude & latitude Drop          │      96.9085 │\n",
      "╘═══════════╧════════════════════════════════════╧══════════════╛\n"
     ]
    }
   ],
   "source": [
    "#create data\n",
    "data = [[\"1\", 'fare_amount Before delete outliers',96.3975],\n",
    "        [\"2\", 'fare_amount After delete outliers',96.9485],\n",
    "        [\"3\", 'epochs incresses to 400',97.1884],\n",
    "        [\"4\", 'longitude & latitude Drop',96.9085]]\n",
    "\n",
    "#define header names\n",
    "col_names = [\"Try Num\", \"Try\",\"Accuracy %\"]\n",
    "  \n",
    "#display table\n",
    "print(tabulate(data, headers=col_names, tablefmt=\"fancy_grid\"))\n"
   ]
  },
  {
   "cell_type": "code",
   "execution_count": 97,
   "metadata": {},
   "outputs": [
    {
     "data": {
      "image/png": "[encoded data removed]",
      "text/plain": [
       "<Figure size 540x252 with 1 Axes>"
      ]
     },
     "metadata": {},
     "output_type": "display_data"
    }
   ],
   "source": [
    "from matplotlib import pyplot as plt\n",
    "sns.set_style('darkgrid')\n",
    "\n",
    "\n",
    "plt.rcParams[\"figure.figsize\"] = [7.50, 3.50]\n",
    "plt.rcParams[\"figure.autolayout\"] = True\n",
    "x = ['1', '2', '3','4']\n",
    "y = [96.3975, 96.9485, 97.1884 , 96.9085]\n",
    "\n",
    "plt.ylim(96, 98)\n",
    "plt.bar(x, y ,color=['black', 'red', 'green', 'blue'])\n",
    "plt.show()"
   ]
  },
  {
   "cell_type": "code",
   "execution_count": null,
   "metadata": {},
   "outputs": [],
   "source": []
  }
 ],
 "metadata": {
  "kernelspec": {
   "display_name": "Python 3",
   "language": "python",
   "name": "python3"
  },
  "language_info": {
   "codemirror_mode": {
    "name": "ipython",
    "version": 3
   },
   "file_extension": ".py",
   "mimetype": "text/x-python",
   "name": "python",
   "nbconvert_exporter": "python",
   "pygments_lexer": "ipython3",
   "version": "3.8.8"
  }
 },
 "nbformat": 4,
 "nbformat_minor": 4
}
